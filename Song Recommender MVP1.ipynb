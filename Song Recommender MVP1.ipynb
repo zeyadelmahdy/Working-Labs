{
 "cells": [
  {
   "cell_type": "markdown",
   "id": "a80a1a4f",
   "metadata": {},
   "source": [
    "# Creating a MVP for a Song Recommendation Tool "
   ]
  },
  {
   "cell_type": "markdown",
   "id": "9ed7b938",
   "metadata": {},
   "source": [
    "### Step 1: Scrape the data to be used as reference for the model"
   ]
  },
  {
   "cell_type": "code",
   "execution_count": 1,
   "id": "6504c28d",
   "metadata": {},
   "outputs": [],
   "source": [
    "\n",
    "import pandas as pd\n",
    "import requests\n",
    "from bs4 import BeautifulSoup\n",
    "from tqdm.notebook import tqdm"
   ]
  },
  {
   "cell_type": "code",
   "execution_count": 2,
   "id": "099007b5",
   "metadata": {},
   "outputs": [],
   "source": [
    "url = \"https://www.billboard.com/charts/hot-100/\"\n"
   ]
  },
  {
   "cell_type": "code",
   "execution_count": 3,
   "id": "6856379a",
   "metadata": {},
   "outputs": [],
   "source": [
    "response = requests.get(url)\n",
    "top100=BeautifulSoup(response.content,'html.parser')\n"
   ]
  },
  {
   "cell_type": "code",
   "execution_count": 4,
   "id": "1b09c497",
   "metadata": {},
   "outputs": [
    {
     "data": {
      "text/plain": [
       "'Adele'"
      ]
     },
     "execution_count": 4,
     "metadata": {},
     "output_type": "execute_result"
    }
   ],
   "source": [
    "top100.select('span.c-label.a-font-primary-s')[0].get_text(strip=True)\n"
   ]
  },
  {
   "cell_type": "code",
   "execution_count": 5,
   "id": "78849353",
   "metadata": {},
   "outputs": [
    {
     "data": {
      "text/plain": [
       "'Easy On Me'"
      ]
     },
     "execution_count": 5,
     "metadata": {},
     "output_type": "execute_result"
    }
   ],
   "source": [
    "top100.select('h3.c-title.a-no-trucate')[0].get_text(strip=True)\n"
   ]
  },
  {
   "cell_type": "code",
   "execution_count": 6,
   "id": "8600a148",
   "metadata": {},
   "outputs": [],
   "source": [
    "top_100 = len(top100.select('h3.c-title.a-no-trucate'))\n"
   ]
  },
  {
   "cell_type": "code",
   "execution_count": 7,
   "id": "91052065",
   "metadata": {},
   "outputs": [
    {
     "data": {
      "application/vnd.jupyter.widget-view+json": {
       "model_id": "f22f0dfc9a9144c7b47a014cb8c2fbb1",
       "version_major": 2,
       "version_minor": 0
      },
      "text/plain": [
       "  0%|          | 0/100 [00:00<?, ?it/s]"
      ]
     },
     "metadata": {},
     "output_type": "display_data"
    }
   ],
   "source": [
    "\n",
    "song = []\n",
    "artist = []\n",
    "\n",
    "for i in tqdm(range(top_100)):\n",
    "    song.append(top100.select('h3.c-title.a-no-trucate')[i].get_text(strip=True))\n",
    "    artist.append(top100.select('span.c-label.a-font-primary-s')[i].get_text(strip=True))\n",
    "    \n",
    "    \n",
    "   "
   ]
  },
  {
   "cell_type": "code",
   "execution_count": 8,
   "id": "210a41e4",
   "metadata": {},
   "outputs": [
    {
     "data": {
      "text/html": [
       "<div>\n",
       "<style scoped>\n",
       "    .dataframe tbody tr th:only-of-type {\n",
       "        vertical-align: middle;\n",
       "    }\n",
       "\n",
       "    .dataframe tbody tr th {\n",
       "        vertical-align: top;\n",
       "    }\n",
       "\n",
       "    .dataframe thead th {\n",
       "        text-align: right;\n",
       "    }\n",
       "</style>\n",
       "<table border=\"1\" class=\"dataframe\">\n",
       "  <thead>\n",
       "    <tr style=\"text-align: right;\">\n",
       "      <th></th>\n",
       "      <th>song</th>\n",
       "      <th>artist</th>\n",
       "    </tr>\n",
       "  </thead>\n",
       "  <tbody>\n",
       "    <tr>\n",
       "      <th>0</th>\n",
       "      <td>Easy On Me</td>\n",
       "      <td>Adele</td>\n",
       "    </tr>\n",
       "    <tr>\n",
       "      <th>1</th>\n",
       "      <td>Stay</td>\n",
       "      <td>The Kid LAROI &amp; Justin Bieber</td>\n",
       "    </tr>\n",
       "    <tr>\n",
       "      <th>2</th>\n",
       "      <td>Industry Baby</td>\n",
       "      <td>Lil Nas X &amp; Jack Harlow</td>\n",
       "    </tr>\n",
       "    <tr>\n",
       "      <th>3</th>\n",
       "      <td>All Too Well (Taylor's Version)</td>\n",
       "      <td>Taylor Swift</td>\n",
       "    </tr>\n",
       "    <tr>\n",
       "      <th>4</th>\n",
       "      <td>Oh My God</td>\n",
       "      <td>Adele</td>\n",
       "    </tr>\n",
       "    <tr>\n",
       "      <th>...</th>\n",
       "      <td>...</td>\n",
       "      <td>...</td>\n",
       "    </tr>\n",
       "    <tr>\n",
       "      <th>95</th>\n",
       "      <td>Too Easy</td>\n",
       "      <td>Gunna &amp; Future</td>\n",
       "    </tr>\n",
       "    <tr>\n",
       "      <th>96</th>\n",
       "      <td>Escape Plan</td>\n",
       "      <td>Travis Scott</td>\n",
       "    </tr>\n",
       "    <tr>\n",
       "      <th>97</th>\n",
       "      <td>Who's In Your Head</td>\n",
       "      <td>Jonas Brothers</td>\n",
       "    </tr>\n",
       "    <tr>\n",
       "      <th>98</th>\n",
       "      <td>Jugaste y Sufri</td>\n",
       "      <td>Eslabon Armado Featuring DannyLux</td>\n",
       "    </tr>\n",
       "    <tr>\n",
       "      <th>99</th>\n",
       "      <td>Take My Breath</td>\n",
       "      <td>The Weeknd</td>\n",
       "    </tr>\n",
       "  </tbody>\n",
       "</table>\n",
       "<p>100 rows × 2 columns</p>\n",
       "</div>"
      ],
      "text/plain": [
       "                               song                             artist\n",
       "0                        Easy On Me                              Adele\n",
       "1                              Stay      The Kid LAROI & Justin Bieber\n",
       "2                     Industry Baby            Lil Nas X & Jack Harlow\n",
       "3   All Too Well (Taylor's Version)                       Taylor Swift\n",
       "4                         Oh My God                              Adele\n",
       "..                              ...                                ...\n",
       "95                         Too Easy                     Gunna & Future\n",
       "96                      Escape Plan                       Travis Scott\n",
       "97               Who's In Your Head                     Jonas Brothers\n",
       "98                  Jugaste y Sufri  Eslabon Armado Featuring DannyLux\n",
       "99                   Take My Breath                         The Weeknd\n",
       "\n",
       "[100 rows x 2 columns]"
      ]
     },
     "execution_count": 8,
     "metadata": {},
     "output_type": "execute_result"
    }
   ],
   "source": [
    " top100_table = pd.DataFrame({'song':song, 'artist':artist})\n",
    "top100_table"
   ]
  },
  {
   "cell_type": "markdown",
   "id": "28e08193",
   "metadata": {},
   "source": [
    "### Step 2: Build the Recommender"
   ]
  },
  {
   "cell_type": "code",
   "execution_count": 9,
   "id": "a26d31af",
   "metadata": {},
   "outputs": [
    {
     "name": "stdout",
     "output_type": "stream",
     "text": [
      "Search here for a song! stay\n"
     ]
    }
   ],
   "source": [
    "#creating the user input \n",
    "song = input(\"Search here for a song! \").lower()"
   ]
  },
  {
   "cell_type": "code",
   "execution_count": 10,
   "id": "a1a3eb26",
   "metadata": {},
   "outputs": [
    {
     "data": {
      "text/html": [
       "<div>\n",
       "<style scoped>\n",
       "    .dataframe tbody tr th:only-of-type {\n",
       "        vertical-align: middle;\n",
       "    }\n",
       "\n",
       "    .dataframe tbody tr th {\n",
       "        vertical-align: top;\n",
       "    }\n",
       "\n",
       "    .dataframe thead th {\n",
       "        text-align: right;\n",
       "    }\n",
       "</style>\n",
       "<table border=\"1\" class=\"dataframe\">\n",
       "  <thead>\n",
       "    <tr style=\"text-align: right;\">\n",
       "      <th></th>\n",
       "      <th>song</th>\n",
       "      <th>artist</th>\n",
       "    </tr>\n",
       "  </thead>\n",
       "  <tbody>\n",
       "    <tr>\n",
       "      <th>1</th>\n",
       "      <td>Stay</td>\n",
       "      <td>The Kid LAROI &amp; Justin Bieber</td>\n",
       "    </tr>\n",
       "  </tbody>\n",
       "</table>\n",
       "</div>"
      ],
      "text/plain": [
       "   song                         artist\n",
       "1  Stay  The Kid LAROI & Justin Bieber"
      ]
     },
     "execution_count": 10,
     "metadata": {},
     "output_type": "execute_result"
    }
   ],
   "source": [
    "#Checking if the input is actually in the data frame\n",
    "\n",
    "check = top100_table[top100_table['song'].str.lower().str.contains(song)]\n",
    "check"
   ]
  },
  {
   "cell_type": "code",
   "execution_count": 11,
   "id": "9c862148",
   "metadata": {},
   "outputs": [],
   "source": [
    "#assign the relevant index number to list for later string-operations, model identifies song names through index\n",
    "\n",
    "index = check.index.tolist()"
   ]
  },
  {
   "cell_type": "code",
   "execution_count": 12,
   "id": "5f221e17",
   "metadata": {},
   "outputs": [
    {
     "data": {
      "text/plain": [
       "'Stay'"
      ]
     },
     "execution_count": 12,
     "metadata": {},
     "output_type": "execute_result"
    }
   ],
   "source": [
    "top100_table.song[index].values[0]"
   ]
  },
  {
   "cell_type": "code",
   "execution_count": 13,
   "id": "02271c9b",
   "metadata": {},
   "outputs": [
    {
     "name": "stdout",
     "output_type": "stream",
     "text": [
      "Did you mean Stay by The Kid LAROI & Justin Bieber? yes\n",
      "Well you got good taste alright! Here's another banger you might like called Fancy Like by Walker Hayes\n"
     ]
    }
   ],
   "source": [
    "# check if a value has been returned in the input or not - (is the value in our dataframe or not)\n",
    "if len(check) == 0:\n",
    "    print(\"That ain't it chief, try again..\")\n",
    "else: # in case the song was spelt in correctly, confirm the song name\n",
    "    answer = input(\"Did you mean \"+ top100_table.song[index].values[0] + \" by \" + top100_table.artist[index].values[0] + \"? \")\n",
    "        \n",
    "    if answer.lower() == 'yes':\n",
    "        suggestion = top100_table.sample().index.tolist()\n",
    "        print(\"Well you got good taste alright! Here's another banger you might like called \" + top100_table['song'][suggestion].item() + \" by \" +  top100_table['artist'][suggestion].item())\n",
    "    else: \n",
    "        print (\"I got nothing else for you, you should be dissapointed.. \" )\n",
    "        \n",
    "        \n",
    "\n",
    "\n",
    "\n",
    "  "
   ]
  },
  {
   "cell_type": "markdown",
   "id": "0428ec35",
   "metadata": {},
   "source": [
    "### Breaking each step down "
   ]
  },
  {
   "cell_type": "code",
   "execution_count": 14,
   "id": "1392f0c9",
   "metadata": {},
   "outputs": [
    {
     "name": "stdout",
     "output_type": "stream",
     "text": [
      "Enter your song here  stay\n"
     ]
    }
   ],
   "source": [
    "#step 1: create user input: \n",
    "\n",
    "song = input(\"Enter your song here  \").lower()\n",
    "\n",
    "\n",
    "\n",
    "\n",
    "# converting input to lowercase to standardize it "
   ]
  },
  {
   "cell_type": "code",
   "execution_count": 15,
   "id": "299ad54b",
   "metadata": {},
   "outputs": [
    {
     "data": {
      "text/html": [
       "<div>\n",
       "<style scoped>\n",
       "    .dataframe tbody tr th:only-of-type {\n",
       "        vertical-align: middle;\n",
       "    }\n",
       "\n",
       "    .dataframe tbody tr th {\n",
       "        vertical-align: top;\n",
       "    }\n",
       "\n",
       "    .dataframe thead th {\n",
       "        text-align: right;\n",
       "    }\n",
       "</style>\n",
       "<table border=\"1\" class=\"dataframe\">\n",
       "  <thead>\n",
       "    <tr style=\"text-align: right;\">\n",
       "      <th></th>\n",
       "      <th>song</th>\n",
       "      <th>artist</th>\n",
       "    </tr>\n",
       "  </thead>\n",
       "  <tbody>\n",
       "    <tr>\n",
       "      <th>1</th>\n",
       "      <td>Stay</td>\n",
       "      <td>The Kid LAROI &amp; Justin Bieber</td>\n",
       "    </tr>\n",
       "  </tbody>\n",
       "</table>\n",
       "</div>"
      ],
      "text/plain": [
       "   song                         artist\n",
       "1  Stay  The Kid LAROI & Justin Bieber"
      ]
     },
     "execution_count": 15,
     "metadata": {},
     "output_type": "execute_result"
    }
   ],
   "source": [
    "#step 2: create a check field to find if the user input is in the dataframe, if not? \n",
    "\n",
    "mic_check = top100_table[top100_table['song'].str.lower().str.contains(song)]\n",
    "mic_check\n",
    "\n",
    "\n",
    "# need to add str since lower only works if the value is a string, \n",
    "#the outer[] is to return the exact value and not a list of true and false\n",
    "#contains makes sure we are working on the user input"
   ]
  },
  {
   "cell_type": "code",
   "execution_count": 16,
   "id": "88c78804",
   "metadata": {},
   "outputs": [],
   "source": [
    "#Step 3: Assign the values an index so the recommender can return the names later based on that. \n",
    "\n",
    "index = mic_check.index.to_list()\n",
    "\n",
    "#to_list converts values into a list so we can work with it later"
   ]
  },
  {
   "cell_type": "code",
   "execution_count": 17,
   "id": "e4934917",
   "metadata": {},
   "outputs": [
    {
     "data": {
      "text/plain": [
       "'Stay'"
      ]
     },
     "execution_count": 17,
     "metadata": {},
     "output_type": "execute_result"
    }
   ],
   "source": [
    "#Step 4: Create value to return the required songs - that we will use in the actual recommender code\n",
    "\n",
    "top100_table.song[index].values[0]"
   ]
  },
  {
   "cell_type": "code",
   "execution_count": 18,
   "id": "e1335859",
   "metadata": {},
   "outputs": [
    {
     "data": {
      "text/html": [
       "<div>\n",
       "<style scoped>\n",
       "    .dataframe tbody tr th:only-of-type {\n",
       "        vertical-align: middle;\n",
       "    }\n",
       "\n",
       "    .dataframe tbody tr th {\n",
       "        vertical-align: top;\n",
       "    }\n",
       "\n",
       "    .dataframe thead th {\n",
       "        text-align: right;\n",
       "    }\n",
       "</style>\n",
       "<table border=\"1\" class=\"dataframe\">\n",
       "  <thead>\n",
       "    <tr style=\"text-align: right;\">\n",
       "      <th></th>\n",
       "      <th>song</th>\n",
       "      <th>artist</th>\n",
       "    </tr>\n",
       "  </thead>\n",
       "  <tbody>\n",
       "    <tr>\n",
       "      <th>1</th>\n",
       "      <td>Stay</td>\n",
       "      <td>The Kid LAROI &amp; Justin Bieber</td>\n",
       "    </tr>\n",
       "  </tbody>\n",
       "</table>\n",
       "</div>"
      ],
      "text/plain": [
       "   song                         artist\n",
       "1  Stay  The Kid LAROI & Justin Bieber"
      ]
     },
     "execution_count": 18,
     "metadata": {},
     "output_type": "execute_result"
    }
   ],
   "source": [
    "mic_check"
   ]
  },
  {
   "cell_type": "code",
   "execution_count": 19,
   "id": "46780693",
   "metadata": {},
   "outputs": [
    {
     "name": "stdout",
     "output_type": "stream",
     "text": [
      "Enter your song here: stay\n",
      "I think we're onto something, did you mean Stay by The Kid LAROI & Justin Bieber? yes\n",
      "Seems like you got good taste in music! Try this song out by Capella Grey it's called Gyalis\n"
     ]
    }
   ],
   "source": [
    "#Step 5: Create scenarios for each input \n",
    "\n",
    "while True: \n",
    "        song = input(\"Enter your song here: \").lower()\n",
    "        mic_check = top100_table[top100_table['song'].str.lower().str.contains(song)]\n",
    "        index = mic_check.index.to_list()\n",
    "        top100_table.song[index].values[0]\n",
    "\n",
    "        if len(mic_check) == 0:\n",
    "                 print(\"That ain't it chief, try again\")\n",
    "        else: \n",
    "            answer=input(\"I think we're onto something, did you mean \" + top100_table.song[index].values[0] + \" by \" + top100_table.artist[index].values[0] + \"? \")\n",
    "  \n",
    "            if answer.lower() == \"yes\":\n",
    "                suggestion=top100_table.sample().index.to_list()\n",
    "                print(\"Seems like you got good taste in music! Try this song out by \" + top100_table['artist'][suggestion].item() + \" it's called \" + top100_table['song'][suggestion].item())\n",
    "                break\n",
    "            else: \n",
    "                input(\"Ok, let's try that again now \")\n",
    "              "
   ]
  },
  {
   "cell_type": "code",
   "execution_count": null,
   "id": "2bb5df00",
   "metadata": {},
   "outputs": [],
   "source": []
  },
  {
   "cell_type": "code",
   "execution_count": 27,
   "id": "970e40cb",
   "metadata": {},
   "outputs": [
    {
     "name": "stdout",
     "output_type": "stream",
     "text": [
      "Enter your song here: stay\n",
      "I think we're onto something, did you mean Stay by The Kid LAROI & Justin Bieber? yes\n",
      "Seems like you got good taste in music! Try this song out by Polo G it's called Bad Man (Smooth Criminal)\n"
     ]
    }
   ],
   "source": [
    "\n",
    "while True: \n",
    "        song = input(\"Enter your song here: \").lower()\n",
    "        mic_check = top100_table[top100_table['song'].str.lower().str.contains(song)]\n",
    "        index = mic_check.index.to_list()\n",
    "        top100_table.song[index].values[0]\n",
    "\n",
    "        if len(mic_check) == 0:\n",
    "                 print(\"That ain't it chief, try again\")\n",
    "                 continue\n",
    "        else: \n",
    "            answer=input(\"I think we're onto something, did you mean \" + top100_table.song[index].values[0] + \" by \" + top100_table.artist[index].values[0] + \"? \")\n",
    "  \n",
    "            if answer.lower() == \"yes\":\n",
    "                suggestion=top100_table.sample().index.to_list()\n",
    "                print(\"Seems like you got good taste in music! Try this song out by \" + top100_table['artist'][suggestion].item() + \" it's called \" + top100_table['song'][suggestion].item())\n",
    "                break\n",
    "            else: \n",
    "                input(\"Ok, let's try that again now \")"
   ]
  },
  {
   "cell_type": "code",
   "execution_count": 24,
   "id": "27ac4a6f",
   "metadata": {},
   "outputs": [
    {
     "data": {
      "text/plain": [
       "0"
      ]
     },
     "execution_count": 24,
     "metadata": {},
     "output_type": "execute_result"
    }
   ],
   "source": [
    "len(mic_check)"
   ]
  }
 ],
 "metadata": {
  "kernelspec": {
   "display_name": "Python 3",
   "language": "python",
   "name": "python3"
  },
  "language_info": {
   "codemirror_mode": {
    "name": "ipython",
    "version": 3
   },
   "file_extension": ".py",
   "mimetype": "text/x-python",
   "name": "python",
   "nbconvert_exporter": "python",
   "pygments_lexer": "ipython3",
   "version": "3.8.8"
  }
 },
 "nbformat": 4,
 "nbformat_minor": 5
}
